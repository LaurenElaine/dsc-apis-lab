{
 "cells": [
  {
   "cell_type": "markdown",
   "metadata": {},
   "source": [
    "# APIs - Cumulative Lab\n",
    "\n",
    "\n",
    "## Introduction \n",
    "\n",
    "We've seen how the Yelp API works and how to create basic visualizations using Folium. It's time to put those skills to work in order to create a working map! Taking things a step further, you'll also independently explore how to perform pagination in order to retrieve a full results set from the Yelp API.\n",
    "\n",
    "## Objectives\n",
    "\n",
    "You will be able to: \n",
    "\n",
    "* Practice using functions to organize your code\n",
    "* Use pagination to retrieve all results from an API query\n",
    "* Practice parsing data returned from an API query\n",
    "* Practice interpreting visualizations of a dataset\n",
    "* Create maps using Folium"
   ]
  },
  {
   "cell_type": "markdown",
   "metadata": {},
   "source": [
    "## Your Task: Query Yelp for All Businesses in a Category and Analyze the Results\n",
    "\n",
    "![restaurant counter with pizza](images/restaurant_counter.jpg)\n",
    "\n",
    "Photo by <a href=\"https://unsplash.com/@jordanmadrid?utm_source=unsplash&utm_medium=referral&utm_content=creditCopyText\">Jordan Madrid</a> on <a href=\"/s/photos/pizza-restaurant?utm_source=unsplash&utm_medium=referral&utm_content=creditCopyText\">Unsplash</a>"
   ]
  },
  {
   "cell_type": "markdown",
   "metadata": {},
   "source": [
    "### Overview\n",
    "\n",
    "You've now worked with some API calls, but we have yet to see how to retrieve a more complete dataset in a programmatic manner. In this lab, you will write a query of businesses on Yelp, then use *pagination* to retrieve all possible results for that query. Then you will create a summary of your findings, including a Folium map of the geographic locations of those businesses.\n",
    "\n",
    "### Technical Details\n",
    "\n",
    "Returning to the Yelp API, the [documentation](https://www.yelp.com/developers/documentation/v3/business_search) also provides us details regarding the **API limits**. These often include details about the number of requests a user is allowed to make within a specified time limit and the maximum number of results to be returned. In this case, we are told that any request has a **maximum of 50 results per request** and defaults to 20. Furthermore, any search will be limited to a **total of 1000 results**. To retrieve all 1000 of these results, we would have to page through the results piece by piece, retrieving 50 at a time. Processes such as these are often referred to as pagination.\n",
    "\n",
    "Also, be mindful of the **API** ***rate*** **limits**. You can only make **5000 requests per day** and are also can make requests too fast. Start prototyping small before running a loop that could be faulty. You can also use `time.sleep(n)` to add delays. For more details see https://www.yelp.com/developers/documentation/v3/rate_limiting.\n",
    "\n",
    "In this lab, you will define a search and then paginate over the results to retrieve all of the results. You'll then parse these responses as a list of dictionaries (for further exploration) and create a map using Folium to visualize the results geographically.\n",
    "\n",
    "### Requirements\n",
    "\n",
    "#### 1. Make the Initial Request\n",
    "\n",
    "Start by filling in your API key to make the initial request to the business search API. Investigate the structure of the response you get back and start figuring out how you will extract the relevant information.\n",
    "\n",
    "#### 2. Add Pagination\n",
    "\n",
    "Using loops and functions, collect the maximum number of results for your query from the API.\n",
    "\n",
    "#### 3. Perform Exploratory Analysis\n",
    "\n",
    "Interpret visualizations related to the price range, average rating, and number of reviews for all query results.\n",
    "\n",
    "#### 4. Create a Folium Map\n",
    "\n",
    "Using latitude and longitude data, plot the query results on an interactive map."
   ]
  },
  {
   "cell_type": "markdown",
   "metadata": {},
   "source": [
    "## 1. Make the Initial Request\n",
    "\n",
    "### Querying\n",
    "\n",
    "Start by making an initial request to the Yelp API. Your search must include at least 2 parameters: **term** and **location**. For example, you might search for pizza restaurants in NYC. The term and location is up to you but make the request below.\n",
    "\n",
    "Use the `requests` library ([documentation here](https://requests.readthedocs.io/en/master/user/quickstart/#make-a-request)).\n",
    "\n",
    "You'll also need an API key from Yelp. If you haven't done this already, go to the Yelp [Manage App page](https://www.yelp.com/developers/v3/manage_app) and create a new app (after making an account if you haven't already)."
   ]
  },
  {
   "cell_type": "code",
   "execution_count": 7,
   "metadata": {
    "ExecuteTime": {
     "end_time": "2022-04-24T15:05:39.964047Z",
     "start_time": "2022-04-24T15:05:38.999455Z"
    }
   },
   "outputs": [
    {
     "data": {
      "text/plain": [
       "<Response [200]>"
      ]
     },
     "execution_count": 7,
     "metadata": {},
     "output_type": "execute_result"
    }
   ],
   "source": [
    "# Replace None with appropriate code\n",
    "\n",
    "# Import the requests library\n",
    "import requests\n",
    "\n",
    "# Get this from the \"Manage App\" page. Make sure you set them\n",
    "# back to None before pushing this to GitHub, since otherwise\n",
    "# your credentials will be compromised\n",
    "api_key = None\n",
    "\n",
    "# These can be whatever you want! But the solution uses \"pizza\"\n",
    "# and \"New York NY\" if you want to compare your work directly\n",
    "term = 'pizza'\n",
    "location = 'New York NY'\n",
    "\n",
    "# Set up params for request\n",
    "url = \"https://api.yelp.com/v3/businesses/search\"\n",
    "headers = {\n",
    "    \"Authorization\": \"Bearer {}\".format(api_key)\n",
    "}\n",
    "url_params = {\n",
    "    \"term\": term.replace(\" \", \"+\"),\n",
    "    \"location\": location.replace(\" \", \"+\")\n",
    "}\n",
    "\n",
    "# Make the request using requests.get, passing in\n",
    "# url, headers=headers, and params=url_params\n",
    "response = requests.get(url, headers=headers, params=url_params)\n",
    "\n",
    "# Confirm we got a 200 response\n",
    "response"
   ]
  },
  {
   "cell_type": "code",
   "execution_count": 8,
   "metadata": {
    "ExecuteTime": {
     "end_time": "2022-04-24T15:05:43.835278Z",
     "start_time": "2022-04-24T15:05:43.830092Z"
    }
   },
   "outputs": [
    {
     "data": {
      "text/plain": [
       "dict_keys(['businesses', 'total', 'region'])"
      ]
     },
     "execution_count": 8,
     "metadata": {},
     "output_type": "execute_result"
    }
   ],
   "source": [
    "# Run this cell without changes\n",
    "\n",
    "# Get the response body in JSON format\n",
    "response_json = response.json()\n",
    "# View the keys\n",
    "response_json.keys()"
   ]
  },
  {
   "cell_type": "markdown",
   "metadata": {},
   "source": [
    "### Extracting Data\n",
    "\n",
    "Now, retrieve the value associated with the `'businesses'` key, and inspect its contents."
   ]
  },
  {
   "cell_type": "code",
   "execution_count": 9,
   "metadata": {
    "ExecuteTime": {
     "end_time": "2022-04-24T15:06:43.212351Z",
     "start_time": "2022-04-24T15:06:43.201392Z"
    }
   },
   "outputs": [
    {
     "data": {
      "text/plain": [
       "[{'id': 'zj8Lq1T8KIC5zwFief15jg',\n",
       "  'alias': 'prince-street-pizza-new-york-2',\n",
       "  'name': 'Prince Street Pizza',\n",
       "  'image_url': 'https://s3-media3.fl.yelpcdn.com/bphoto/ZAukOyv530w4KjOHC5YY1w/o.jpg',\n",
       "  'is_closed': False,\n",
       "  'url': 'https://www.yelp.com/biz/prince-street-pizza-new-york-2?adjust_creative=TsQ978jnAcWbVJCDHHph7g&utm_campaign=yelp_api_v3&utm_medium=api_v3_business_search&utm_source=TsQ978jnAcWbVJCDHHph7g',\n",
       "  'review_count': 4283,\n",
       "  'categories': [{'alias': 'pizza', 'title': 'Pizza'},\n",
       "   {'alias': 'italian', 'title': 'Italian'}],\n",
       "  'rating': 4.5,\n",
       "  'coordinates': {'latitude': 40.72308755605564,\n",
       "   'longitude': -73.99453001177575},\n",
       "  'transactions': ['delivery', 'pickup'],\n",
       "  'price': '$',\n",
       "  'location': {'address1': '27 Prince St',\n",
       "   'address2': None,\n",
       "   'address3': '',\n",
       "   'city': 'New York',\n",
       "   'zip_code': '10012',\n",
       "   'country': 'US',\n",
       "   'state': 'NY',\n",
       "   'display_address': ['27 Prince St', 'New York, NY 10012']},\n",
       "  'phone': '+12129664100',\n",
       "  'display_phone': '(212) 966-4100',\n",
       "  'distance': 1961.8771417367063},\n",
       " {'id': 'ysqgdbSrezXgVwER2kQWKA',\n",
       "  'alias': 'julianas-brooklyn-3',\n",
       "  'name': \"Juliana's\",\n",
       "  'image_url': 'https://s3-media2.fl.yelpcdn.com/bphoto/clscwgOF9_Ecq-Rwsq7jyQ/o.jpg',\n",
       "  'is_closed': False,\n",
       "  'url': 'https://www.yelp.com/biz/julianas-brooklyn-3?adjust_creative=TsQ978jnAcWbVJCDHHph7g&utm_campaign=yelp_api_v3&utm_medium=api_v3_business_search&utm_source=TsQ978jnAcWbVJCDHHph7g',\n",
       "  'review_count': 2424,\n",
       "  'categories': [{'alias': 'pizza', 'title': 'Pizza'}],\n",
       "  'rating': 4.5,\n",
       "  'coordinates': {'latitude': 40.70274718768062,\n",
       "   'longitude': -73.99343490196397},\n",
       "  'transactions': ['delivery'],\n",
       "  'price': '$$',\n",
       "  'location': {'address1': '19 Old Fulton St',\n",
       "   'address2': '',\n",
       "   'address3': '',\n",
       "   'city': 'Brooklyn',\n",
       "   'zip_code': '11201',\n",
       "   'country': 'US',\n",
       "   'state': 'NY',\n",
       "   'display_address': ['19 Old Fulton St', 'Brooklyn, NY 11201']},\n",
       "  'phone': '+17185966700',\n",
       "  'display_phone': '(718) 596-6700',\n",
       "  'distance': 308.56984360837544}]"
      ]
     },
     "execution_count": 9,
     "metadata": {},
     "output_type": "execute_result"
    }
   ],
   "source": [
    "# Replace None with appropriate code\n",
    "\n",
    "# Retrieve the value from response_json\n",
    "businesses = response_json[\"businesses\"]\n",
    "\n",
    "# View the first 2 records\n",
    "businesses[:2]"
   ]
  },
  {
   "cell_type": "markdown",
   "metadata": {},
   "source": [
    "### Preparing Data\n",
    "\n",
    "Write a function `prepare_data` that takes in a list of dictionaries like `businesses` and returns a copy that has been prepared for analysis:\n",
    "\n",
    "1. The `coordinates` key-value pair has been converted into two separate key-value pairs, `latitude` and `longitude`\n",
    "2. All other key-value pairs except for `name`, `review_count`, `rating`, and `price` have been dropped\n",
    "3. All dictionaries missing one of the relevant keys or containing null values have been dropped\n",
    "\n",
    "In other words, the final keys for each dictionary should be `name`, `review_count`, `rating`, `price`, `latitude`, and `longitude`.\n",
    "\n",
    "Complete the function in the cell below:"
   ]
  },
  {
   "cell_type": "code",
   "execution_count": 10,
   "metadata": {
    "ExecuteTime": {
     "end_time": "2022-04-24T15:14:38.385915Z",
     "start_time": "2022-04-24T15:14:38.370759Z"
    }
   },
   "outputs": [
    {
     "data": {
      "text/plain": [
       "[{'name': 'Prince Street Pizza',\n",
       "  'review_count': 4283,\n",
       "  'rating': 4.5,\n",
       "  'price': '$',\n",
       "  'latitude': 40.72308755605564,\n",
       "  'longitude': -73.99453001177575},\n",
       " {'name': \"Juliana's\",\n",
       "  'review_count': 2424,\n",
       "  'rating': 4.5,\n",
       "  'price': '$$',\n",
       "  'latitude': 40.70274718768062,\n",
       "  'longitude': -73.99343490196397},\n",
       " {'name': 'Rubirosa',\n",
       "  'review_count': 2616,\n",
       "  'rating': 4.5,\n",
       "  'price': '$$',\n",
       "  'latitude': 40.722766,\n",
       "  'longitude': -73.996233},\n",
       " {'name': \"Lombardi's Pizza\",\n",
       "  'review_count': 6298,\n",
       "  'rating': 4.0,\n",
       "  'price': '$$',\n",
       "  'latitude': 40.7215934960083,\n",
       "  'longitude': -73.9955956044561},\n",
       " {'name': 'Lucali',\n",
       "  'review_count': 1778,\n",
       "  'rating': 4.0,\n",
       "  'price': '$$',\n",
       "  'latitude': 40.6818,\n",
       "  'longitude': -74.00024}]"
      ]
     },
     "execution_count": 10,
     "metadata": {},
     "output_type": "execute_result"
    }
   ],
   "source": [
    "# Replace None with appropriate code\n",
    "\n",
    "def prepare_data(data_list):\n",
    "    \"\"\"\n",
    "    This function takes in a list of dictionaries and prepares it\n",
    "    for analysis\n",
    "    \"\"\"\n",
    "    \n",
    "    # Make a new list to hold results\n",
    "    results = []\n",
    "    \n",
    "    for business_data in data_list:\n",
    "    \n",
    "        # Make a new dictionary to hold prepared data for this business\n",
    "        prepared_data = {}\n",
    "        \n",
    "        # Extract name, review_count, rating, and price key-value pairs\n",
    "        # from business_data and add to prepared_data\n",
    "        # If a key is not present in business_data, add it to prepared_data\n",
    "        # with an associated value of None\n",
    "        for key in ('name', 'review_count', 'rating', 'price'):\n",
    "             prepared_data[key] = business_data.get(key, None)\n",
    "    \n",
    "        # Parse and add latitude and longitude columns\n",
    "        coordinates = business_data[\"coordinates\"]\n",
    "        prepared_data[\"latitude\"] = coordinates[\"latitude\"]\n",
    "        prepared_data[\"longitude\"] = coordinates[\"longitude\"]\n",
    "        \n",
    "        # Add to list if all values are present\n",
    "        if all(prepared_data.values()):\n",
    "            results.append(prepared_data)\n",
    "    \n",
    "    return results\n",
    "    \n",
    "# Test out function\n",
    "prepared_businesses = prepare_data(businesses)\n",
    "prepared_businesses[:5]"
   ]
  },
  {
   "cell_type": "markdown",
   "metadata": {},
   "source": [
    "Check that your function created the correct keys:"
   ]
  },
  {
   "cell_type": "code",
   "execution_count": 11,
   "metadata": {
    "ExecuteTime": {
     "end_time": "2022-04-24T15:16:12.505693Z",
     "start_time": "2022-04-24T15:16:12.499225Z"
    }
   },
   "outputs": [],
   "source": [
    "# Run this cell without changes\n",
    "\n",
    "assert sorted(list(prepared_businesses[0].keys())) == ['latitude', 'longitude', 'name', 'price', 'rating', 'review_count']"
   ]
  },
  {
   "cell_type": "markdown",
   "metadata": {},
   "source": [
    "The following code will differ depending on your query, but we expect there to be 20 businesses in the original list, and potentially fewer in the prepared list (if any of them were missing data):"
   ]
  },
  {
   "cell_type": "code",
   "execution_count": 12,
   "metadata": {
    "ExecuteTime": {
     "end_time": "2022-04-24T15:16:33.388770Z",
     "start_time": "2022-04-24T15:16:33.385140Z"
    }
   },
   "outputs": [
    {
     "name": "stdout",
     "output_type": "stream",
     "text": [
      "Original: 20\n",
      "Prepared: 20\n"
     ]
    }
   ],
   "source": [
    "# Run this cell without changes\n",
    "print(\"Original:\", len(businesses))\n",
    "print(\"Prepared:\", len(prepared_businesses))"
   ]
  },
  {
   "cell_type": "markdown",
   "metadata": {},
   "source": [
    "Great! We will reuse this function once we have retrieved the full dataset."
   ]
  },
  {
   "cell_type": "markdown",
   "metadata": {},
   "source": [
    "## 2. Add Pagination\n",
    "\n",
    "Now that you are able to extract information from one page of the response, let's figure out how to request as many pages as possible.\n",
    "\n",
    "### Determining the Total\n",
    "\n",
    "Depending on the number of total results for your query, you will either retrieve all of the results, or just the first 1000 (if there are more than 1000 total).\n",
    "\n",
    "We can find the total number of results using the `\"total\"` key:"
   ]
  },
  {
   "cell_type": "code",
   "execution_count": 13,
   "metadata": {
    "ExecuteTime": {
     "end_time": "2022-04-24T15:19:02.484605Z",
     "start_time": "2022-04-24T15:19:02.480599Z"
    }
   },
   "outputs": [
    {
     "data": {
      "text/plain": [
       "11900"
      ]
     },
     "execution_count": 13,
     "metadata": {},
     "output_type": "execute_result"
    }
   ],
   "source": [
    "# Run this cell without changes\n",
    "response_json[\"total\"]"
   ]
  },
  {
   "cell_type": "markdown",
   "metadata": {},
   "source": [
    "(This is specific to the implementation of the Yelp API. Some APIs will just tell you that there are more pages, or will tell you the number of pages total, rather than the total number of results. If you're not sure, always check the documentation.)\n",
    "\n",
    "In the cell below, assign the variable `total` to either the value shown above (if it is less than 1000), or 1000."
   ]
  },
  {
   "cell_type": "code",
   "execution_count": 14,
   "metadata": {
    "ExecuteTime": {
     "end_time": "2022-04-24T15:19:52.372810Z",
     "start_time": "2022-04-24T15:19:52.370074Z"
    }
   },
   "outputs": [],
   "source": [
    "# Replace None with appropriate code\n",
    "total = 1000"
   ]
  },
  {
   "cell_type": "markdown",
   "metadata": {},
   "source": [
    "### Calculating the Offsets\n",
    "\n",
    "The documentation states in the parameters section:\n",
    "\n",
    "> **Name**: `limit`, **Type:** int, **Description:** Optional. Number of business results to return. By default, it will return 20. Maximum is 50.\n",
    "\n",
    "> **Name**: `offset`, **Type:** int, **Description:** Optional. Offset the list of returned business results by this amount.\n",
    "\n",
    "So, to get the most results with the fewest API calls we want to set a limit of 50 every time. If, say, we wanted to get 210 total results, that would mean:\n",
    "\n",
    "1. Offset of `0` (first 50 records)\n",
    "2. Offset of `50` (second 50 records)\n",
    "3. Offset of `100` (third 50 records)\n",
    "4. Offset of `150` (fourth 50 records)\n",
    "5. Offset of `200` (final 10 records)\n",
    "\n",
    "In the cell below, create a function `get_offsets` that takes in a total and returns a list of offsets for that total. You can assume that there is a limit of 50 every time.\n",
    "\n",
    "*Hint: you can use `range` ([documentation here](https://docs.python.org/3.3/library/stdtypes.html?highlight=range#range)) to do this in one line of code. Just make the returned result is a list.*"
   ]
  },
  {
   "cell_type": "code",
   "execution_count": 15,
   "metadata": {
    "ExecuteTime": {
     "end_time": "2022-04-24T15:23:46.351447Z",
     "start_time": "2022-04-24T15:23:46.348100Z"
    }
   },
   "outputs": [],
   "source": [
    "# Replace None with appropriate code\n",
    "def get_offsets(total):\n",
    "    \"\"\"\n",
    "    Get a list of offsets needed to get all pages\n",
    "    of data up until the total\n",
    "    \"\"\"\n",
    "    return list(range(0, total, 50))"
   ]
  },
  {
   "cell_type": "markdown",
   "metadata": {},
   "source": [
    "Check that your function works below:"
   ]
  },
  {
   "cell_type": "code",
   "execution_count": 16,
   "metadata": {
    "ExecuteTime": {
     "end_time": "2022-04-24T15:23:54.546989Z",
     "start_time": "2022-04-24T15:23:54.543356Z"
    }
   },
   "outputs": [],
   "source": [
    "# Run this cell without changes\n",
    "\n",
    "assert get_offsets(200) == [0, 50, 100, 150]\n",
    "assert get_offsets(210) == [0, 50, 100, 150, 200]"
   ]
  },
  {
   "cell_type": "markdown",
   "metadata": {},
   "source": [
    "### Putting It All Together\n",
    "\n",
    "Recall that the following variable has already been declared for you:"
   ]
  },
  {
   "cell_type": "code",
   "execution_count": 17,
   "metadata": {
    "ExecuteTime": {
     "end_time": "2022-04-24T15:24:22.195718Z",
     "start_time": "2022-04-24T15:24:22.190929Z"
    }
   },
   "outputs": [
    {
     "data": {
      "text/plain": [
       "{'term': 'pizza', 'location': 'New+York+NY'}"
      ]
     },
     "execution_count": 17,
     "metadata": {},
     "output_type": "execute_result"
    }
   ],
   "source": [
    "# Run this cell without changes\n",
    "url_params"
   ]
  },
  {
   "cell_type": "markdown",
   "metadata": {},
   "source": [
    "We'll go ahead and also specify that the limit should be 50 every time:"
   ]
  },
  {
   "cell_type": "code",
   "execution_count": 18,
   "metadata": {
    "ExecuteTime": {
     "end_time": "2022-04-24T15:24:25.208530Z",
     "start_time": "2022-04-24T15:24:25.205728Z"
    }
   },
   "outputs": [],
   "source": [
    "# Run this cell without changes\n",
    "url_params[\"limit\"] = 50"
   ]
  },
  {
   "cell_type": "markdown",
   "metadata": {},
   "source": [
    "In order to modify the offset, you'll need to add it to `url_params` with the key `\"offset\"` and whatever value is needed.\n",
    "\n",
    "In the cell below, write code that:\n",
    "\n",
    "* Creates an empty list for the full prepared dataset\n",
    "* Loops over all of the offsets from `get_offsets` and makes an API call each time with the specified offset\n",
    "* Calls `prepare_data` to get a cleaned version of the result of each API call\n",
    "* Extends the full prepared dataset list with each query's prepared dataset"
   ]
  },
  {
   "cell_type": "code",
   "execution_count": 24,
   "metadata": {
    "ExecuteTime": {
     "end_time": "2022-04-24T15:34:49.066883Z",
     "start_time": "2022-04-24T15:34:20.902265Z"
    }
   },
   "outputs": [
    {
     "data": {
      "text/plain": [
       "799"
      ]
     },
     "execution_count": 24,
     "metadata": {},
     "output_type": "execute_result"
    }
   ],
   "source": [
    "# Replace None with appropriate code\n",
    "\n",
    "# Create an empty list for the full prepared dataset\n",
    "full_dataset = []\n",
    "\n",
    "for offset in get_offsets(total):\n",
    "    # Add or update the \"offset\" key-value pair in url_params\n",
    "    url_params[\"offset\"] = offset\n",
    "    \n",
    "    # Make the query and get the response\n",
    "    response = requests.get(url, headers=headers, params=url_params)\n",
    "    \n",
    "    # Get the response body in JSON format\n",
    "    response_json = response.json()\n",
    "    \n",
    "    # Get the list of businesses from the response_json\n",
    "    businesses = response_json[\"businesses\"]\n",
    "    \n",
    "    # Call the prepare_data function to get a list of processed data\n",
    "    prepared_businesses = prepare_data(businesses)\n",
    "    \n",
    "    # Extend full_dataset with this list (don't append, or you'll get\n",
    "    # a list of lists instead of a flat list)\n",
    "    full_dataset.extend(prepared_businesses)\n",
    "\n",
    "# Check the length of the full dataset. It will be up to `total`,\n",
    "# potentially less if there were missing values\n",
    "len(full_dataset)"
   ]
  },
  {
   "cell_type": "markdown",
   "metadata": {},
   "source": [
    "This code may take up to a few minutes to run.\n",
    "\n",
    "If you get an error trying to get the response body in JSON format, try adding `time.sleep(1)` right after the `requests.get` line, so your code will sleep for 1 second between each API call."
   ]
  },
  {
   "cell_type": "markdown",
   "metadata": {},
   "source": [
    "## 3. Perform Exploratory Analysis\n",
    "\n",
    "Take the businesses from the previous question and do an initial exploratory analysis. We have provided some plots for you to interpret:"
   ]
  },
  {
   "cell_type": "code",
   "execution_count": 25,
   "metadata": {
    "ExecuteTime": {
     "end_time": "2022-04-24T15:34:56.620446Z",
     "start_time": "2022-04-24T15:34:56.101924Z"
    }
   },
   "outputs": [
    {
     "data": {
      "image/png": "[encoded data removed]",
      "text/plain": [
       "<Figure size 1152x360 with 3 Axes>"
      ]
     },
     "metadata": {
      "needs_background": "light"
     },
     "output_type": "display_data"
    }
   ],
   "source": [
    "# Run this cell without changes\n",
    "from collections import Counter\n",
    "import matplotlib.pyplot as plt\n",
    "%matplotlib inline\n",
    "\n",
    "fig, (ax1, ax2, ax3) = plt.subplots(ncols=3, figsize=(16, 5))\n",
    "\n",
    "# Plot distribution of number of reviews\n",
    "all_review_counts = [x[\"review_count\"] for x in full_dataset]\n",
    "ax1.hist(all_review_counts)\n",
    "ax1.set_title(\"Review Count Distribution\")\n",
    "ax1.set_xlabel(\"Number of Reviews\")\n",
    "ax1.set_ylabel(\"Number of Businesses\")\n",
    "\n",
    "# Plot rating distribution\n",
    "all_ratings = [x[\"rating\"] for x in full_dataset]\n",
    "rating_counter = Counter(all_ratings)\n",
    "rating_keys = sorted(rating_counter.keys())\n",
    "ax2.bar(rating_keys, [rating_counter[key] for key in rating_keys])\n",
    "ax2.set_title(\"Rating Distribution\")\n",
    "ax2.set_xlabel(\"Rating\")\n",
    "ax2.set_ylabel(\"Number of Businesses\")\n",
    "\n",
    "# Plot price distribution\n",
    "all_prices = [x[\"price\"].replace(\"$\", r\"\\$\") for x in full_dataset]\n",
    "price_counter = Counter(all_prices)\n",
    "price_keys = sorted(price_counter.keys())\n",
    "ax3.bar(price_keys, [price_counter[key] for key in price_keys])\n",
    "ax3.set_title(\"Price Distribution\")\n",
    "ax3.set_xlabel(\"Price Category\")\n",
    "ax3.set_ylabel(\"Number of Businesses\");"
   ]
  },
  {
   "cell_type": "markdown",
   "metadata": {},
   "source": [
    "Describe the distributions displayed above and interpret them in the context of your query. (Your answer may differ from the solution branch depending on your query.)"
   ]
  },
  {
   "cell_type": "code",
   "execution_count": 26,
   "metadata": {
    "ExecuteTime": {
     "end_time": "2022-04-24T15:38:19.490759Z",
     "start_time": "2022-04-24T15:38:19.483951Z"
    }
   },
   "outputs": [
    {
     "data": {
      "text/plain": [
       "'\\nReview count distribution tells us that over 700 businesses in our query have 1000 reviews. \\nAnd very few businesses have more thatn 1000 reviews\\n\\nRating distribution tells us that the reviews for the businesses in our querey are in a normal\\ndistribution. 4 seems to be the most frequent rating.\\n\\nPrice distribution tells us that most businesses in our query have a price range in the $ or $$ \\npoint. About 725 businesses fall in this rating.\\n'"
      ]
     },
     "execution_count": 26,
     "metadata": {},
     "output_type": "execute_result"
    }
   ],
   "source": [
    "# Replace None with appropriate text\n",
    "\"\"\"\n",
    "Review count distribution tells us that over 700 businesses in our query have 1000 reviews. \n",
    "And very few businesses have more thatn 1000 reviews\n",
    "\n",
    "Rating distribution tells us that the reviews for the businesses in our querey are in a normal\n",
    "distribution. 4 seems to be the most frequent rating.\n",
    "\n",
    "Price distribution tells us that most businesses in our query have a price range in the $ or $$ \n",
    "point. About 725 businesses fall in this rating.\n",
    "\"\"\""
   ]
  },
  {
   "cell_type": "markdown",
   "metadata": {},
   "source": [
    "In the cell below, we also plot the rating distributions by price. In this setup, a price of one dollar sign is \"lower price\" and everything else is \"higher price\"."
   ]
  },
  {
   "cell_type": "code",
   "execution_count": 27,
   "metadata": {
    "ExecuteTime": {
     "end_time": "2022-04-24T15:38:22.505427Z",
     "start_time": "2022-04-24T15:38:22.377085Z"
    }
   },
   "outputs": [
    {
     "data": {
      "image/png": "[encoded data removed]",
      "text/plain": [
       "<Figure size 432x288 with 1 Axes>"
      ]
     },
     "metadata": {
      "needs_background": "light"
     },
     "output_type": "display_data"
    }
   ],
   "source": [
    "# Run this cell without changes\n",
    "\n",
    "higher_price = []\n",
    "lower_price = []\n",
    "for row in full_dataset:\n",
    "    if row[\"price\"] == \"$\":\n",
    "        lower_price.append(row[\"rating\"])\n",
    "    else:\n",
    "        higher_price.append(row[\"rating\"])\n",
    "        \n",
    "fig, ax = plt.subplots()\n",
    "\n",
    "ax.hist([higher_price, lower_price], label=[\"higher price\", \"lower price\"], density=True)\n",
    "\n",
    "ax.legend();"
   ]
  },
  {
   "cell_type": "markdown",
   "metadata": {},
   "source": [
    "Is a higher price associated with a higher rating? (No need for any additional math/statistics, just interpret what you see in the plot.)"
   ]
  },
  {
   "cell_type": "code",
   "execution_count": 28,
   "metadata": {
    "ExecuteTime": {
     "end_time": "2022-04-24T15:40:26.476865Z",
     "start_time": "2022-04-24T15:40:26.469283Z"
    }
   },
   "outputs": [
    {
     "data": {
      "text/plain": [
       "'\\nboth series of informaiton seem to be correlated to some degree but a higher\\nprice does seem to garner a higher rating more frequently.\\n'"
      ]
     },
     "execution_count": 28,
     "metadata": {},
     "output_type": "execute_result"
    }
   ],
   "source": [
    "# Replace None with appropriate text\n",
    "\"\"\"\n",
    "both series of informaiton seem to be correlated to some degree but a higher\n",
    "price does seem to garner a higher rating more frequently.\n",
    "\"\"\""
   ]
  },
  {
   "cell_type": "markdown",
   "metadata": {},
   "source": [
    "Finally, let's look at ratings vs. review counts:"
   ]
  },
  {
   "cell_type": "code",
   "execution_count": 29,
   "metadata": {
    "ExecuteTime": {
     "end_time": "2022-04-24T15:40:28.402389Z",
     "start_time": "2022-04-24T15:40:28.287785Z"
    }
   },
   "outputs": [
    {
     "data": {
      "image/png": "[encoded data removed]",
      "text/plain": [
       "<Figure size 1152x360 with 1 Axes>"
      ]
     },
     "metadata": {
      "needs_background": "light"
     },
     "output_type": "display_data"
    }
   ],
   "source": [
    "# Run this cell without changes\n",
    "fig, ax = plt.subplots(figsize=(16,5))\n",
    "\n",
    "ax.scatter(all_review_counts, all_ratings, alpha=0.2)\n",
    "ax.set_xlabel(\"Number of Reviews\")\n",
    "ax.set_ylabel(\"Rating\")\n",
    "# \"zoom in\" to a subset of review counts\n",
    "ax.set_xlim(left=0, right=1000);"
   ]
  },
  {
   "cell_type": "markdown",
   "metadata": {},
   "source": [
    "Is a higher number of reviews associated with a higher rating?"
   ]
  },
  {
   "cell_type": "code",
   "execution_count": 30,
   "metadata": {
    "ExecuteTime": {
     "end_time": "2022-04-24T15:42:59.044942Z",
     "start_time": "2022-04-24T15:42:59.040655Z"
    }
   },
   "outputs": [
    {
     "data": {
      "text/plain": [
       "'\\nThe number of reviews seem to be assocaited with a higher than average rating in this instance.\\nBut there businesses that receive up to 200 reviews could expect to more frequently \\nreceive a rating between 3.5 and 4.5\\n'"
      ]
     },
     "execution_count": 30,
     "metadata": {},
     "output_type": "execute_result"
    }
   ],
   "source": [
    "# Replace None with appropriate text\n",
    "\"\"\"\n",
    "The number of reviews seem to be assocaited with a higher than average rating in this instance.\n",
    "But there businesses that receive up to 200 reviews could expect to more frequently \n",
    "receive a rating between 3.5 and 4.5\n",
    "\"\"\""
   ]
  },
  {
   "cell_type": "markdown",
   "metadata": {},
   "source": [
    "## 4. Create a Folium Map\n",
    "\n",
    "Make a map using Folium of the businesses you retrieved. Be sure to also add popups to the markers giving some basic information such as name, rating and price.\n",
    "\n",
    "You can center the map around the latitude and longitude of the first item in `full_dataset`."
   ]
  },
  {
   "cell_type": "code",
   "execution_count": 31,
   "metadata": {
    "ExecuteTime": {
     "end_time": "2022-04-24T15:46:32.214185Z",
     "start_time": "2022-04-24T15:46:31.771765Z"
    },
    "scrolled": true
   },
   "outputs": [
    {
     "data": {
      "text/html": [
       "<div style=\"width:100%;\"><div style=\"position:relative;width:100%;height:0;padding-bottom:60%;\"><span style=\"color:#565656\">Make this Notebook Trusted to load map: File -> Trust Notebook</span><iframe src=\"about:blank\" style=\"position:absolute;width:100%;height:100%;left:0;top:0;border:none !important;\" data-html=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 onload=\"this.contentDocument.open();this.contentDocument.write(atob(this.getAttribute('data-html')));this.contentDocument.close();\" allowfullscreen webkitallowfullscreen mozallowfullscreen></iframe></div></div>"
      ],
      "text/plain": [
       "<folium.folium.Map at 0x7f9708476910>"
      ]
     },
     "execution_count": 31,
     "metadata": {},
     "output_type": "execute_result"
    }
   ],
   "source": [
    "# Replace None with appropriate code\n",
    "\n",
    "# Import the library\n",
    "import folium\n",
    "\n",
    "# Set up center latitude and longitude\n",
    "center_lat = full_dataset[0][\"latitude\"]\n",
    "center_long = full_dataset[0][\"longitude\"]\n",
    "\n",
    "# Initialize map with center lat and long\n",
    "yelp_map = folium.Map([center_lat, center_long], zoom_start=13)\n",
    "\n",
    "# Adjust this limit to see more or fewer businesses\n",
    "limit=100\n",
    "\n",
    "for business in full_dataset[:limit]:\n",
    "    # Extract information about business\n",
    "    lat = business[\"latitude\"]\n",
    "    long = business[\"longitude\"]\n",
    "    name = business[\"name\"]\n",
    "    rating = business[\"rating\"]\n",
    "    price = business[\"price\"]\n",
    "    details = \"{}\\nPrice: {}\\nRating: {}\".format(name,price,rating)\n",
    "    \n",
    "    # Create popup with relevant details\n",
    "    popup = folium.Popup(details)\n",
    "    \n",
    "    # Create marker with relevant lat/long and popup\n",
    "    marker = folium.Marker([lat, long], popup=popup)\n",
    "    \n",
    "    marker.add_to(yelp_map)\n",
    "    \n",
    "yelp_map"
   ]
  },
  {
   "cell_type": "markdown",
   "metadata": {},
   "source": [
    "## Summary\n",
    "\n",
    "Nice work! In this lab, you've made multiple API calls to Yelp in order to paginate through a results set, performing some basic exploratory analysis and then creating a nice interactive map to display the results using Folium! Well done!"
   ]
  }
 ],
 "metadata": {
  "kernelspec": {
   "display_name": "Python 3",
   "language": "python",
   "name": "python3"
  },
  "language_info": {
   "codemirror_mode": {
    "name": "ipython",
    "version": 3
   },
   "file_extension": ".py",
   "mimetype": "text/x-python",
   "name": "python",
   "nbconvert_exporter": "python",
   "pygments_lexer": "ipython3",
   "version": "3.8.5"
  },
  "toc": {
   "base_numbering": 1,
   "nav_menu": {},
   "number_sections": true,
   "sideBar": true,
   "skip_h1_title": false,
   "title_cell": "Table of Contents",
   "title_sidebar": "Contents",
   "toc_cell": false,
   "toc_position": {},
   "toc_section_display": true,
   "toc_window_display": false
  },
  "varInspector": {
   "cols": {
    "lenName": 16,
    "lenType": 16,
    "lenVar": 40
   },
   "kernels_config": {
    "python": {
     "delete_cmd_postfix": "",
     "delete_cmd_prefix": "del ",
     "library": "var_list.py",
     "varRefreshCmd": "print(var_dic_list())"
    },
    "r": {
     "delete_cmd_postfix": ") ",
     "delete_cmd_prefix": "rm(",
     "library": "var_list.r",
     "varRefreshCmd": "cat(var_dic_list()) "
    }
   },
   "types_to_exclude": [
    "module",
    "function",
    "builtin_function_or_method",
    "instance",
    "_Feature"
   ],
   "window_display": false
  }
 },
 "nbformat": 4,
 "nbformat_minor": 2
}
